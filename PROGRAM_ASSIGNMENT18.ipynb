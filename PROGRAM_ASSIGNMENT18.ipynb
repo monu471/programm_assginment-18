{
 "cells": [
  {
   "cell_type": "code",
   "execution_count": null,
   "id": "37bc923a",
   "metadata": {},
   "outputs": [],
   "source": [
    "# Question 1\n",
    "# Create a function that takes a list of non-negative integers and strings and return a new list\n",
    "# without the strings.\n",
    "# Examples\n",
    "# filter_list([1, 2, &quot;a&quot;, &quot;b&quot;]) ➞ [1, 2]\n",
    "# filter_list([1, &quot;a&quot;, &quot;b&quot;, 0, 15]) ➞ [1, 0, 15]\n",
    "# filter_list([1, 2, &quot;aasf&quot;, &quot;1&quot;, &quot;123&quot;, 123]) ➞ [1, 2, 123]\n",
    "\n",
    "\n",
    "def filter_list(a):\n",
    "    b= []\n",
    "    for i in a :\n",
    "        if type(i)== str:\n",
    "            pass\n",
    "        else:\n",
    "            b.append(i)\n",
    "    return b        \n",
    "        "
   ]
  },
  {
   "cell_type": "code",
   "execution_count": null,
   "id": "ab5fa797",
   "metadata": {},
   "outputs": [],
   "source": [
    "# The \"Reverser\" takes a string as input and returns that string in reverse order, with the opposite case.\n",
    "# Examples\n",
    "# reverse(\"Hello World\") ➞ \"DLROw OLLEh\"\n",
    "\n",
    "# reverse(\"ReVeRsE\") ➞ \"eSrEvEr\"\n",
    "\n",
    "# reverse(\"Radar\") ➞ \"RADAr\"\n",
    "\n",
    "def  reverse(a):\n",
    "    sum = \"\"\n",
    "    for i in a[::-1]:\n",
    "        if i==i.lower():\n",
    "            sum = sum+i.upper()\n",
    "        else:\n",
    "            sum = sum + i.lower()\n",
    "    return sum        \n",
    "        "
   ]
  },
  {
   "cell_type": "code",
   "execution_count": 5,
   "id": "aede6435",
   "metadata": {},
   "outputs": [],
   "source": [
    "# Write a function that calculates the factorial of a number recursively\n",
    "def recursion(a):\n",
    "    if a ==0 or a==1:\n",
    "        return 1\n",
    "    else:\n",
    "        return a*recursion(a-1)\n",
    "        "
   ]
  },
  {
   "cell_type": "code",
   "execution_count": 1,
   "id": "a8385a44",
   "metadata": {},
   "outputs": [],
   "source": [
    "# Question 5\n",
    "# Write a function that moves all elements of one type to the end of the list.\n",
    "# Examples\n",
    "# move_to_end([1, 3, 2, 4, 4, 1], 1) ➞ [3, 2, 4, 4, 1, 1]\n",
    "# Move all the 1s to the end of the array.\n",
    "\n",
    "# move_to_end([7, 8, 9, 1, 2, 3, 4], 9) ➞ [7, 8, 1, 2, 3, 4, 9]\n",
    "\n",
    "# move_to_end([\"a\", \"a\", \"a\", \"b\"], \"a\") ➞ [\"b\", \"a\", \"a\", \"a\"]\n",
    "\n",
    "def move_to_end(l,a):\n",
    "    j = []\n",
    "    n = []\n",
    "    for i in l:\n",
    "        if i==a:\n",
    "            j.append(i)\n",
    "        else:\n",
    "            n.append(i)\n",
    "    return n+j\n",
    "                       "
   ]
  },
  {
   "cell_type": "code",
   "execution_count": 5,
   "id": "15d6e56e",
   "metadata": {},
   "outputs": [],
   "source": [
    "# Question 3\n",
    "# You can assign variables from lists like this:\n",
    "# lst = [1, 2, 3, 4, 5, 6]\n",
    "# first = lst[0]\n",
    "# middle = lst[1:-1]\n",
    "# last = lst[-1]\n",
    "\n",
    "# print(first) ➞ outputs 1\n",
    "# print(middle) ➞ outputs [2, 3, 4, 5]\n",
    "# print(last) ➞ outputs 6\n",
    "# With Python 3, you can assign variables from lists in a much more succinct way. Create variables first, middle and last from the given list using destructuring assignment (check the Resources tab for some examples), where:\n",
    "# first  ➞ 1\n",
    "\n",
    "# middle ➞ [2, 3, 4, 5]\n",
    "\n",
    "# last ➞ 6\n",
    "# Your task is to unpack the list writeyourcodehere into three variables, being first, middle, and last, with middle being everything in between the first and last element. Then print all three variables.\n",
    "\n",
    "\n",
    "def writeyourcodehere(l,a):\n",
    "    first,*middle ,last = l\n",
    "    if a== \"first\":\n",
    "        return first\n",
    "    elif a==\"middle\":\n",
    "        return middle\n",
    "    else:\n",
    "        return last\n",
    "    "
   ]
  },
  {
   "cell_type": "code",
   "execution_count": null,
   "id": "3e4b18d6",
   "metadata": {},
   "outputs": [],
   "source": []
  }
 ],
 "metadata": {
  "kernelspec": {
   "display_name": "Python 3 (ipykernel)",
   "language": "python",
   "name": "python3"
  },
  "language_info": {
   "codemirror_mode": {
    "name": "ipython",
    "version": 3
   },
   "file_extension": ".py",
   "mimetype": "text/x-python",
   "name": "python",
   "nbconvert_exporter": "python",
   "pygments_lexer": "ipython3",
   "version": "3.9.12"
  }
 },
 "nbformat": 4,
 "nbformat_minor": 5
}
